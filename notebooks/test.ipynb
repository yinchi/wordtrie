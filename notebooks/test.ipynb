{
 "cells": [
  {
   "cell_type": "code",
   "execution_count": 1,
   "id": "83355df3",
   "metadata": {},
   "outputs": [],
   "source": [
    "import subprocess\n",
    "import re\n",
    "from typing import Sequence\n",
    "\n",
    "from gzip import open as gzip_open\n",
    "\n",
    "from wordtrie.trie import Trie"
   ]
  },
  {
   "cell_type": "code",
   "execution_count": 2,
   "id": "30717c52",
   "metadata": {},
   "outputs": [],
   "source": [
    "with gzip_open(\"../words.txt.gz\", 'rt', encoding=\"utf-8\") as file:\n",
    "    words = file.read().splitlines()\n",
    "\n",
    "trie = Trie.from_words(words)"
   ]
  },
  {
   "cell_type": "markdown",
   "id": "6f5da1db",
   "metadata": {},
   "source": [
    "# Wildcard filter"
   ]
  },
  {
   "cell_type": "code",
   "execution_count": 3,
   "id": "a63b5eee",
   "metadata": {},
   "outputs": [],
   "source": [
    "def filter_py_re(words: Sequence[str], pattern: str) -> list[str]:\n",
    "    return [word for word in words if re.fullmatch(pattern, word)]"
   ]
  },
  {
   "cell_type": "code",
   "execution_count": 4,
   "id": "bd5dd33a",
   "metadata": {},
   "outputs": [],
   "source": [
    "def filter_py_re_compiled(words: Sequence[str], pattern: re.Pattern) -> list[str]:\n",
    "    return [word for word in words if pattern.fullmatch(word)]"
   ]
  },
  {
   "cell_type": "code",
   "execution_count": 5,
   "id": "75f67aee",
   "metadata": {},
   "outputs": [],
   "source": [
    "def filter_grep(filename: str, pattern: str) -> list[str]:\n",
    "    result = subprocess.run(\n",
    "        ['grep', f'^{pattern}$', filename],\n",
    "        capture_output=True, text=True,\n",
    "    )\n",
    "    return result.stdout.splitlines()"
   ]
  },
  {
   "cell_type": "code",
   "execution_count": 6,
   "id": "76cddee9",
   "metadata": {},
   "outputs": [],
   "source": [
    "def filter_trie(trie: Trie, pattern: str) -> list[str]:\n",
    "    return list(trie.traverse(pattern))"
   ]
  },
  {
   "cell_type": "code",
   "execution_count": 7,
   "id": "6f6932eb",
   "metadata": {},
   "outputs": [
    {
     "name": "stdout",
     "output_type": "stream",
     "text": [
      "15.3 ms ± 64.7 μs per loop (mean ± std. dev. of 7 runs, 100 loops each)\n"
     ]
    }
   ],
   "source": [
    "%timeit filter_py_re(words, r'..SS..')"
   ]
  },
  {
   "cell_type": "code",
   "execution_count": 8,
   "id": "14c99165",
   "metadata": {},
   "outputs": [
    {
     "name": "stdout",
     "output_type": "stream",
     "text": [
      "3.37 ms ± 28.3 μs per loop (mean ± std. dev. of 7 runs, 100 loops each)\n"
     ]
    }
   ],
   "source": [
    "pattern_compiled = re.compile(r'..SS..')\n",
    "%timeit filter_py_re_compiled(words, pattern_compiled)"
   ]
  },
  {
   "cell_type": "code",
   "execution_count": 9,
   "id": "68c20e40",
   "metadata": {},
   "outputs": [
    {
     "name": "stdout",
     "output_type": "stream",
     "text": [
      "17.3 ms ± 202 μs per loop (mean ± std. dev. of 7 runs, 100 loops each)\n"
     ]
    }
   ],
   "source": [
    "%timeit filter_grep(\"../words.txt\", r'..SS..')"
   ]
  },
  {
   "cell_type": "code",
   "execution_count": 10,
   "id": "9eafadfe",
   "metadata": {},
   "outputs": [
    {
     "name": "stdout",
     "output_type": "stream",
     "text": [
      "104 μs ± 7.11 μs per loop (mean ± std. dev. of 7 runs, 10,000 loops each)\n"
     ]
    }
   ],
   "source": [
    "%timeit -n 10000 filter_trie(trie, r'..SS..')"
   ]
  },
  {
   "cell_type": "code",
   "execution_count": 11,
   "id": "f5d81984",
   "metadata": {},
   "outputs": [
    {
     "name": "stdout",
     "output_type": "stream",
     "text": [
      "True\n",
      "True\n",
      "True\n"
     ]
    }
   ],
   "source": [
    "filter_trie_result = filter_trie(trie, r'..SS..')\n",
    "\n",
    "print(filter_trie_result == filter_py_re(words, r'..SS..'))\n",
    "print(filter_trie_result == filter_py_re_compiled(words, re.compile(r'..SS..')))\n",
    "print(filter_trie_result == filter_grep('../words.txt', r'..SS..'))"
   ]
  },
  {
   "cell_type": "code",
   "execution_count": 12,
   "id": "621dbe8d",
   "metadata": {},
   "outputs": [
    {
     "name": "stdout",
     "output_type": "stream",
     "text": [
      "['BASSED', 'BASSER', 'BASSES', 'BASSET', 'BASSLY', 'BASSOS', 'BISSON', 'BOSSED', 'BOSSER', 'BOSSES',\n",
      " 'BOSSET', 'BUSSED', 'BUSSES', 'BUSSUS', 'BYSSAL', 'BYSSUS', 'CASSIA', 'CASSIE', 'CASSIS', 'CESSED',\n",
      " 'CESSER', 'CESSES', 'CISSUS', 'COSSES', 'COSSET', 'COSSIE', 'CUSSED', 'CUSSER', 'CUSSES', 'CUSSOS',\n",
      " 'DASSIE', 'DESSES', 'DISSED', 'DISSES', 'DOSSAL', 'DOSSED', 'DOSSEL', 'DOSSER', 'DOSSES', 'DOSSIL',\n",
      " 'EASSEL', 'EASSIL', 'FESSED', 'FESSES', 'FISSLE', 'FOSSAE', 'FOSSAS', 'FOSSED', 'FOSSES', 'FOSSIL',\n",
      " 'FOSSOR', 'FUSSED', 'FUSSER', 'FUSSES', 'GASSED', 'GASSER', 'GASSES', 'GESSED', 'GESSES', 'GOSSAN',\n",
      " 'GOSSED', 'GOSSES', 'GOSSIB', 'GOSSIP', 'GUSSET', 'GUSSIE', 'HASSAR', 'HASSEL', 'HASSES', 'HASSLE',\n",
      " 'HISSED', 'HISSER', 'HISSES', 'HOSSES', 'HUSSAR', 'HUSSES', 'HUSSIF', 'HYSSOP', 'JASSES', 'JASSID',\n",
      " 'JESSED', 'JESSES', 'JESSIE', 'JISSOM', 'JOSSER', 'JOSSES', 'KISSED', 'KISSEL', 'KISSER', 'KISSES',\n",
      " 'KOSSES', 'KUSSOS', 'LASSES', 'LASSIE', 'LASSIS', 'LASSOS', 'LASSUS', 'LESSEE', 'LESSEN', 'LESSER',\n",
      " 'LESSES', 'LESSON', 'LESSOR', 'LISSES', 'LISSOM', 'LOSSES', 'LYSSAS', 'MASSAS', 'MASSED', 'MASSES',\n",
      " 'MASSIF', 'MESSAN', 'MESSED', 'MESSES', 'MISSAE', 'MISSAL', 'MISSAW', 'MISSAY', 'MISSED', 'MISSEE',\n",
      " 'MISSEL', 'MISSES', 'MISSET', 'MISSIS', 'MISSUS', 'MOSSED', 'MOSSER', 'MOSSES', 'MOSSIE', 'MUSSED',\n",
      " 'MUSSEL', 'MUSSES', 'NESSES', 'NISSES', 'NYSSAS', 'PASSED', 'PASSEE', 'PASSEL', 'PASSER', 'PASSES',\n",
      " 'PASSIM', 'PASSUS', 'PISSED', 'PISSER', 'PISSES', 'POSSED', 'POSSER', 'POSSES', 'POSSET', 'POSSIE',\n",
      " 'POSSUM', 'PUSSEL', 'PUSSER', 'PUSSES', 'PUSSLY', 'RASSES', 'RASSLE', 'ROSSER', 'RUSSEL', 'RUSSET',\n",
      " 'RUSSIA', 'SASSED', 'SASSES', 'SESSED', 'SESSES', 'SISSES', 'SISSOO', 'SOSSED', 'SOSSES', 'SUSSED',\n",
      " 'SUSSES', 'TASSAS', 'TASSEL', 'TASSES', 'TASSET', 'TASSIE', 'TASSOS', 'TISSUE', 'TOSSED', 'TOSSEN',\n",
      " 'TOSSER', 'TOSSES', 'TOSSUP', 'TUSSAC', 'TUSSAH', 'TUSSAL', 'TUSSAR', 'TUSSEH', 'TUSSER', 'TUSSES',\n",
      " 'TUSSIS', 'TUSSLE', 'TUSSOR', 'TUSSUR', 'VASSAL', 'VESSEL', 'WASSUP', 'WISSED', 'WISSES', 'WUSSES',\n",
      " 'YESSED', 'YESSES', 'YESSIR', 'YESSUM']\n"
     ]
    }
   ],
   "source": [
    "from pprint import pprint\n",
    "\n",
    "\n",
    "pprint(filter_trie_result, width=100, compact=True)"
   ]
  },
  {
   "cell_type": "markdown",
   "id": "47eddf18",
   "metadata": {},
   "source": [
    "# Exact match"
   ]
  },
  {
   "cell_type": "markdown",
   "id": "cd3ec2ab",
   "metadata": {},
   "source": [
    "Both Python's `bisect` and the `look` command assume a sorted word list."
   ]
  },
  {
   "cell_type": "code",
   "execution_count": 13,
   "id": "e218d7f5",
   "metadata": {},
   "outputs": [],
   "source": [
    "from bisect import bisect_left\n",
    "\n",
    "def match_py(words: Sequence[str], word: str) -> bool:\n",
    "    \"\"\"Determine if `word` is in the sorted sequence `words`.\"\"\"\n",
    "    # `bisect_left(words, word)`` returns the maximum i such that words[:i]\n",
    "    # are all lexicographically less than `word`.  Therefore, if `word` is\n",
    "    # in `words`, it must be at index `i`.\n",
    "    i = bisect_left(words, word)\n",
    "    return i < len(words) and words[i] == word"
   ]
  },
  {
   "cell_type": "code",
   "execution_count": 14,
   "id": "28d47b3f",
   "metadata": {},
   "outputs": [
    {
     "name": "stdout",
     "output_type": "stream",
     "text": [
      "86 ns ± 0.239 ns per loop (mean ± std. dev. of 7 runs, 10,000,000 loops each)\n"
     ]
    }
   ],
   "source": [
    "%timeit match_py(words, \"WISHED\")"
   ]
  },
  {
   "cell_type": "code",
   "execution_count": 15,
   "id": "9c9598ef",
   "metadata": {},
   "outputs": [
    {
     "name": "stdout",
     "output_type": "stream",
     "text": [
      "0.606 ns ± 0.000399 ns per loop (mean ± std. dev. of 7 runs, 1,000,000,000 loops each)\n"
     ]
    }
   ],
   "source": [
    "%timeit trie.__contains__(\"WISHED\")"
   ]
  },
  {
   "cell_type": "code",
   "execution_count": 16,
   "id": "15243a5f",
   "metadata": {},
   "outputs": [],
   "source": [
    "def match_look(filename: str, word: str) -> bool:\n",
    "    \"\"\"Determine if `word` is in the sorted word list `filename` using the `look` command.\n",
    "\n",
    "    Slower than a pure-Python implementation due to the overhead of spawning a subprocess\n",
    "    and reading the input file.\n",
    "    \"\"\"\n",
    "    result = subprocess.run(\n",
    "        ['look', word, filename],\n",
    "        stdout=subprocess.DEVNULL,\n",
    "    )\n",
    "    return result.returncode == 0"
   ]
  },
  {
   "cell_type": "code",
   "execution_count": 17,
   "id": "ede3e5a9",
   "metadata": {},
   "outputs": [
    {
     "name": "stdout",
     "output_type": "stream",
     "text": [
      "29.7 ms ± 2.51 ms per loop (mean ± std. dev. of 7 runs, 10 loops each)\n"
     ]
    }
   ],
   "source": [
    "%timeit match_look(\"../words.txt\", \"WISHED\")"
   ]
  },
  {
   "cell_type": "code",
   "execution_count": 18,
   "id": "6e5a2256",
   "metadata": {},
   "outputs": [
    {
     "data": {
      "text/plain": [
       "True"
      ]
     },
     "execution_count": 18,
     "metadata": {},
     "output_type": "execute_result"
    }
   ],
   "source": [
    "match_py(words, \"WISHED\")"
   ]
  },
  {
   "cell_type": "markdown",
   "id": "26d0e87e",
   "metadata": {},
   "source": [
    "# Trie-based functions"
   ]
  },
  {
   "cell_type": "code",
   "execution_count": 19,
   "id": "835c4da5",
   "metadata": {},
   "outputs": [
    {
     "data": {
      "text/plain": [
       "True"
      ]
     },
     "execution_count": 19,
     "metadata": {},
     "output_type": "execute_result"
    }
   ],
   "source": [
    "\"WISHED\" in trie"
   ]
  },
  {
   "cell_type": "code",
   "execution_count": 20,
   "id": "0dac0c89",
   "metadata": {},
   "outputs": [
    {
     "name": "stdout",
     "output_type": "stream",
     "text": [
      "Trie(is_word=True, n_descendants=948)\n"
     ]
    }
   ],
   "source": [
    "print(trie[\"WO\"])"
   ]
  },
  {
   "cell_type": "code",
   "execution_count": 21,
   "id": "36bbebca",
   "metadata": {},
   "outputs": [
    {
     "name": "stdout",
     "output_type": "stream",
     "text": [
      "WORD + 1 letters:\n",
      "['WORDS', 'WORDY']\n",
      "WORD + 2 letters:\n",
      "['WORDED', 'WORDIE']\n",
      "WORD + 3 letters:\n",
      "['WORDAGE', 'WORDIER', 'WORDIES', 'WORDILY', 'WORDING', 'WORDISH']\n",
      "WORD + 4 letters:\n",
      "['WORDAGES', 'WORDBOOK', 'WORDGAME', 'WORDIEST', 'WORDINGS', 'WORDLESS', 'WORDLORE', 'WORDPLAY',\n",
      " 'WORDWRAP']\n",
      "WORD + 5 letters:\n",
      "['WORDBOOKS', 'WORDBOUND', 'WORDBREAK', 'WORDCOUNT', 'WORDGAMES', 'WORDINESS', 'WORDLORES',\n",
      " 'WORDPLAYS', 'WORDSMITH', 'WORDWRAPS']\n",
      "WORD + 6 letters:\n",
      "['WORDBREAKS', 'WORDCOUNTS', 'WORDLESSLY', 'WORDMONGER', 'WORDSEARCH', 'WORDSMITHS']\n",
      "WORD + 7 letters:\n",
      "['WORDINESSES', 'WORDISHNESS', 'WORDMONGERS']\n",
      "WORD + 8 letters:\n",
      "['WORDLESSNESS', 'WORDSEARCHES', 'WORDSMITHERY']\n",
      "WORD + 9 letters:\n",
      "['WORDISHNESSES']\n"
     ]
    }
   ],
   "source": [
    "for n in range(1, 10):\n",
    "    print(f\"WORD + {n} letters:\")\n",
    "    pprint(list(trie.traverse(\"WORD\" + \".\" * n)), width=100, compact=True)\n"
   ]
  },
  {
   "cell_type": "code",
   "execution_count": 22,
   "id": "b435d356",
   "metadata": {},
   "outputs": [
    {
     "name": "stdout",
     "output_type": "stream",
     "text": [
      "1 letters + SIZE:\n",
      "[]\n",
      "2 letters + SIZE:\n",
      "['ASSIZE', 'RESIZE', 'UPSIZE']\n",
      "3 letters + SIZE:\n",
      "['CAPSIZE', 'MIDSIZE', 'OUTSIZE', 'UNISIZE']\n",
      "4 letters + SIZE:\n",
      "['BITESIZE', 'DOWNSIZE', 'DUMBSIZE', 'GOLDSIZE', 'OVERSIZE', 'PINTSIZE']\n",
      "5 letters + SIZE:\n",
      "['ECSTASIZE', 'EMPHASIZE', 'FANTASIZE', 'GALLISIZE', 'MULTISIZE', 'RIGHTSIZE', 'SUPERSIZE',\n",
      " 'SYNOPSIZE', 'UNDERSIZE']\n",
      "6 letters + SIZE:\n",
      "['SYNTHESIZE']\n",
      "7 letters + SIZE:\n",
      "['APOTHEOSIZE', 'HYPOSTASIZE', 'HYPOTHESIZE', 'METASTASIZE', 'METATHESIZE', 'REEMPHASIZE']\n",
      "8 letters + SIZE:\n",
      "['MISEMPHASIZE', 'PARENTHESIZE', 'RESYNTHESIZE']\n",
      "9 letters + SIZE:\n",
      "['OVEREMPHASIZE']\n"
     ]
    }
   ],
   "source": [
    "for n in range(1, 10):\n",
    "    print(f\"{n} letters + SIZE:\")\n",
    "    pprint(list(trie.traverse(\".\" * n + \"SIZE\")), width=100, compact=True)"
   ]
  },
  {
   "cell_type": "code",
   "execution_count": 23,
   "id": "c0762f49",
   "metadata": {},
   "outputs": [
    {
     "data": {
      "text/plain": [
       "{'is_word': False,\n",
       " 'children': [None,\n",
       "  None,\n",
       "  <wordtrie.trie.Trie at 0x17bd4918>,\n",
       "  <wordtrie.trie.Trie at 0x17bd4950>,\n",
       "  <wordtrie.trie.Trie at 0x17bd4988>,\n",
       "  None,\n",
       "  None,\n",
       "  None,\n",
       "  None,\n",
       "  None,\n",
       "  <wordtrie.trie.Trie at 0x17bd49c0>,\n",
       "  <wordtrie.trie.Trie at 0x17bf4e20>,\n",
       "  <wordtrie.trie.Trie at 0x17bf4e58>,\n",
       "  <wordtrie.trie.Trie at 0x17bf4e90>,\n",
       "  None,\n",
       "  None,\n",
       "  None,\n",
       "  <wordtrie.trie.Trie at 0x17bf4ec8>,\n",
       "  <wordtrie.trie.Trie at 0x17bf4f00>,\n",
       "  <wordtrie.trie.Trie at 0x17bf4de8>,\n",
       "  None,\n",
       "  None,\n",
       "  None,\n",
       "  None,\n",
       "  None,\n",
       "  None],\n",
       " 'n_descendants': 323}"
      ]
     },
     "execution_count": 23,
     "metadata": {},
     "output_type": "execute_result"
    }
   ],
   "source": [
    "trie[\"WOR\"].__dict__"
   ]
  },
  {
   "cell_type": "markdown",
   "id": "1b8506ca",
   "metadata": {},
   "source": [
    "# Checking a single word"
   ]
  },
  {
   "cell_type": "code",
   "execution_count": 24,
   "id": "66df85a6",
   "metadata": {},
   "outputs": [
    {
     "name": "stdout",
     "output_type": "stream",
     "text": [
      "False\n",
      "True\n"
     ]
    }
   ],
   "source": [
    "print(bool(re.fullmatch(r'.ESS..E', \"MASSAGE\")))\n",
    "print(bool(re.fullmatch(r'.ESS..E', \"MESSAGE\")))"
   ]
  },
  {
   "cell_type": "markdown",
   "id": "96558b04",
   "metadata": {},
   "source": [
    "# Attempt to add words"
   ]
  },
  {
   "cell_type": "code",
   "execution_count": 25,
   "id": "943c5f1c",
   "metadata": {},
   "outputs": [
    {
     "name": "stderr",
     "output_type": "stream",
     "text": [
      "Word 'EXISTS' already in trie.\n"
     ]
    },
    {
     "data": {
      "text/plain": [
       "False"
      ]
     },
     "execution_count": 25,
     "metadata": {},
     "output_type": "execute_result"
    }
   ],
   "source": [
    "trie.insert(\"EXISTS\")  # Should print an error message"
   ]
  },
  {
   "cell_type": "code",
   "execution_count": 26,
   "id": "2a6674ae",
   "metadata": {},
   "outputs": [
    {
     "data": {
      "text/plain": [
       "True"
      ]
     },
     "execution_count": 26,
     "metadata": {},
     "output_type": "execute_result"
    }
   ],
   "source": [
    "trie.insert(\"YINCHI\")"
   ]
  },
  {
   "cell_type": "code",
   "execution_count": 27,
   "id": "8259376a",
   "metadata": {},
   "outputs": [],
   "source": [
    "assert \"YINCHI\" in trie"
   ]
  },
  {
   "cell_type": "code",
   "execution_count": 28,
   "id": "8f8e5034",
   "metadata": {},
   "outputs": [
    {
     "name": "stderr",
     "output_type": "stream",
     "text": [
      "Word 'lowercase' must be capitalized A-Z only.\n"
     ]
    },
    {
     "data": {
      "text/plain": [
       "False"
      ]
     },
     "execution_count": 28,
     "metadata": {},
     "output_type": "execute_result"
    }
   ],
   "source": [
    "trie.insert(\"lowercase\")  # Should print an error message"
   ]
  },
  {
   "cell_type": "code",
   "execution_count": null,
   "id": "8456e0fb",
   "metadata": {},
   "outputs": [],
   "source": []
  }
 ],
 "metadata": {
  "kernelspec": {
   "display_name": "wordtrie",
   "language": "python",
   "name": "python3"
  },
  "language_info": {
   "codemirror_mode": {
    "name": "ipython",
    "version": 3
   },
   "file_extension": ".py",
   "mimetype": "text/x-python",
   "name": "python",
   "nbconvert_exporter": "python",
   "pygments_lexer": "ipython3",
   "version": "3.11.13"
  }
 },
 "nbformat": 4,
 "nbformat_minor": 5
}
